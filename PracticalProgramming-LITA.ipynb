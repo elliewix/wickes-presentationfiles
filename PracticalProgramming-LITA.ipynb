{
 "metadata": {
  "name": ""
 },
 "nbformat": 3,
 "nbformat_minor": 0,
 "worksheets": [
  {
   "cells": [
    {
     "cell_type": "markdown",
     "metadata": {},
     "source": [
      "# Practical Programming, ALA-LITA workshop"
     ]
    },
    {
     "cell_type": "markdown",
     "metadata": {},
     "source": [
      "## Welcome!\n",
      "\n",
      "### Who am I?\n",
      "\n",
      "Elizabeth Wickes, wickes1@illinois.edu, http://www.elizabethwickes.com <br>\n",
      "@elliewix, https://github.com/elliewix/\n",
      "\n",
      "* GSLIS (UIUC) Master's student in data curation and socio-technical data analytics\n",
      "* Center for Informatics Research in Science and Scholarship (CIRSS) RA\n",
      "* Co-Organizer of the Champaign-Urbana Python User's Group (Py-CU)"
     ]
    },
    {
     "cell_type": "markdown",
     "metadata": {},
     "source": [
      "# Schedule\n",
      "\n",
      "* 8:30 - 9:00:  Introductions\n",
      "* 9:00 - 9:30:  Software checks\n",
      "* 9:30 - 10:00:  Historical overview of programming languages\n",
      "* 10:00 - 10:30:  Talking through a programming problem\n",
      "* 10:30 - 10:45:  Break!\n",
      "* 10:45 - 11:30:  Data types and operators\n",
      "* 11:30 - 12:00: Containers\n",
      "* 12:00 - 1:00:  Lunch\n",
      "* 1:00 - 1:30:  Let's dig in\n",
      "* 2:00 - 3:00: Looping\n",
      "* 3:00 - 3:30: Discussion on searcing strategies\n",
      "* 3:30 - 4:00: Where to go from here"
     ]
    },
    {
     "cell_type": "markdown",
     "metadata": {},
     "source": [
      "# Introductions\n",
      "\n",
      "* Name\n",
      "* Institution\n",
      "* What brings you here?\n",
      "    * Curiosity?  Specific project?\n",
      "* What experience in programming do you have?"
     ]
    },
    {
     "cell_type": "code",
     "collapsed": false,
     "input": [],
     "language": "python",
     "metadata": {},
     "outputs": []
    }
   ],
   "metadata": {}
  }
 ]
}