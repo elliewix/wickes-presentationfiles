{
 "metadata": {
  "name": ""
 },
 "nbformat": 3,
 "nbformat_minor": 0,
 "worksheets": [
  {
   "cells": [
    {
     "cell_type": "markdown",
     "metadata": {},
     "source": [
      "# Practical Programming, ALA-LITA workshop"
     ]
    },
    {
     "cell_type": "markdown",
     "metadata": {},
     "source": [
      "## Welcome!\n",
      "\n",
      "Instructor:  Elizabeth Wickes, wickes1@illinois.edu, http://www.elizabethwickes.com"
     ]
    },
    {
     "cell_type": "markdown",
     "metadata": {},
     "source": [
      "# Schedule\n",
      "\n"
     ]
    },
    {
     "cell_type": "code",
     "collapsed": false,
     "input": [],
     "language": "python",
     "metadata": {},
     "outputs": []
    }
   ],
   "metadata": {}
  }
 ]
}