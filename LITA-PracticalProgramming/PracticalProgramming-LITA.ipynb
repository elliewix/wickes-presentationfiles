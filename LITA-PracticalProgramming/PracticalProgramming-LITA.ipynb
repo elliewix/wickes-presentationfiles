{
 "metadata": {
  "name": ""
 },
 "nbformat": 3,
 "nbformat_minor": 0,
 "worksheets": [
  {
   "cells": [
    {
     "cell_type": "markdown",
     "metadata": {
      "slideshow": {
       "slide_type": "slide"
      }
     },
     "source": [
      "# Practical Programming, ALA-LITA workshop\n",
      "\n",
      "## Welcome!!\n",
      "\n",
      "<a href=\"http://nbviewer.ipython.org/github/elliewix/wickes-presentationfiles/blob/master/LITA-PracticalProgramming/PracticalProgramming-LITA.ipynb\">NBViewer link to presentation materials</a>\n",
      "\n",
      "## Schedule\n",
      "\n",
      "* 8:30 - 9:00:  Introductions\n",
      "* 9:00 - 9:30:  Software checks\n",
      "* 9:30 - 10:00:  What are programming languages and what is Python?\n",
      "* 10:00 - 10:30:  Talking through a programming problem\n",
      "* 10:30 - 10:45:  Break!\n",
      "* 10:45 - 11:30:  Data types and operators\n",
      "* 11:30 - 12:00: Containers\n",
      "* 12:00 - 1:00:  Lunch\n",
      "* 1:00 - 1:30:  Working with files\n",
      "* 2:00 - 2:30: Looping\n",
      "* 2:30 - 3:00: Working with data and other tidbits\n",
      "* 3:00 - 3:30: Discussion on searching strategies (and buffer time)\n",
      "* 3:30 - 4:00: Where to go from here\n",
      "\n",
      "# Pre-introduction task!\n",
      "\n",
      "Start downloading PyCharm Educational Edition <a href=\"https://www.jetbrains.com/pycharm-educational/\">Download here</a>\n",
      "\n",
      "Start the install process if you feel comfortable with it.  Tip:  all the standard stuff is fine.  Just click 'okay' a bunch."
     ]
    },
    {
     "cell_type": "markdown",
     "metadata": {
      "slideshow": {
       "slide_type": "slide"
      }
     },
     "source": [
      "# Who am I?\n",
      "\n",
      "Elizabeth Wickes\n",
      "\n",
      "Various types of contact info:\n",
      "\n",
      "* wickes1@illinois.edu\n",
      "* <a href=\"http://www.elizabethwickes.com\">elizabethwickes.com</a>\n",
      "* <a href=\"https://twitter.com/elliewix\">@elliewix</a>\n",
      "\n",
      "Metadata:\n",
      "\n",
      "* GSLIS (UIUC) Master's student in data curation and socio-technical data analytics\n",
      "* Center for Informatics Research in Science and Scholarship (CIRSS) RA\n",
      "* Co-organizer of the Champaign-Urbana Python User's Group (Py-CU)\n",
      "* Pro bono data monkey"
     ]
    },
    {
     "cell_type": "markdown",
     "metadata": {
      "slideshow": {
       "slide_type": "subslide"
      }
     },
     "source": [
      "# Teaching Style\n",
      "\n",
      "I want to take a moment to talk about my teaching style before we start really diving into the programming content.  \n",
      "\n",
      "* I will make you talk, but usually as a group.\n",
      "* I will try to keep you focused on practicing your vocabulary for these new concepts.\n",
      "* I will try to 'prime' you for certain concepts that will be coming up.\n",
      "    * Some of this may be introducing a concept that we will build on.\n",
      "    * Feel free to mentally check out in portions of the highly theoretical stuff.\n",
      "* There are no stupid questions:\n",
      "    * Only things I haven't explained yet, or explained poorly.\n",
      "    * Feel free to stop me if I'm being confusing.\n",
      "    * But I reserve the right to say that I'm getting to that :-)\n",
      "* We're all students and peers in this room.\n",
      "* Let me know if there are learning needs I can accommodate.\n",
      "\n",
      "This is a practical programming workshop, so I'm going to stick to the skills that I feel are vital for jumping into projcts.  However, this does not mean that we should skip over certain theoretical discussions.  If I'm talking about theoretical concepts it is because I feel like you need it.  This also means that I will be skipping over some more non-essential topics because you can pick them up on your own later."
     ]
    },
    {
     "cell_type": "markdown",
     "metadata": {
      "slideshow": {
       "slide_type": "subslide"
      }
     },
     "source": [
      "# And you?\n",
      "\n",
      "* Name\n",
      "* Institution\n",
      "* What brings you here?\n",
      "    * Curiosity?  Specific project?\n",
      "* What experience in programming do you have?"
     ]
    },
    {
     "cell_type": "markdown",
     "metadata": {
      "slideshow": {
       "slide_type": "slide"
      }
     },
     "source": [
      "## Software Checks!\n",
      "\n",
      "### Mac Users\n",
      "\n",
      "You're set!  You already have Python on your system. We're still going to start you off with PyCharm, but I can show you other programs that would also be good to know about.\n",
      "\n",
      "### Windows users\n",
      "\n",
      "Go ahead and install PyCharm.  It should install Python as part of it.  We can go over some other tools at the end as well."
     ]
    },
    {
     "cell_type": "markdown",
     "metadata": {
      "slideshow": {
       "slide_type": "slide"
      }
     },
     "source": [
      "# Topic 1: Historical overview of programming languages\n",
      "\n",
      "## Computers are amazing tools, but they aren't magic\n",
      "\n",
      "* Every computer has a specific language.\n",
      "* We need to be able to tell computers what to do, but in a way that we can speak."
     ]
    },
    {
     "cell_type": "markdown",
     "metadata": {
      "slideshow": {
       "slide_type": "fragment"
      }
     },
     "source": [
      "<iframe src=http://en.wikipedia.org/wiki/List_of_programming_languages width=700 height=350></iframe>"
     ]
    },
    {
     "cell_type": "markdown",
     "metadata": {
      "slideshow": {
       "slide_type": "slide"
      }
     },
     "source": [
      "## Programming languages can be classified into groups\n",
      "\n",
      "We're librarians, we like ontologies, right?\n",
      "\n",
      "*Very* roughly, programming languages can be described by their purpose and their style.\n"
     ]
    },
    {
     "cell_type": "markdown",
     "metadata": {
      "slideshow": {
       "slide_type": "fragment"
      }
     },
     "source": [
      "* Purpose:\n",
      "    * Web languages (HTML, PHP, JavaScript, etc...)\n",
      "    * Scripting (Python, Perl, R, etc...)\n",
      "    * Software languages (Java, C++, etc...)"
     ]
    },
    {
     "cell_type": "markdown",
     "metadata": {
      "slideshow": {
       "slide_type": "fragment"
      }
     },
     "source": [
      "* Style:\n",
      "    * Language syntax\n",
      "    * Abstraction level\n",
      "    * Methodological approach\n",
      "    * etc..."
     ]
    },
    {
     "cell_type": "markdown",
     "metadata": {
      "slideshow": {
       "slide_type": "fragment"
      }
     },
     "source": [
      "## That's neat, but what about Python?\n",
      "\n",
      "Python is a modern programming language and is the language of this workshop.  In this description universe, we can describe Python as:\n",
      "\n",
      "* A general purpose programming language, most commonly used for scripting\n",
      "    * But with growing web and software usage\n",
      "* A very high level language designed for clarity of expression"
     ]
    },
    {
     "cell_type": "markdown",
     "metadata": {
      "slideshow": {
       "slide_type": "slide"
      }
     },
     "source": [
      "## What is Python?\n",
      "\n",
      "<img src = 'pythonselfie.jpg'/>\n",
      "\n",
      "(A selfie with Python on the history of programming languages at the <a href = \"http://www.tnmoc.org/\">The National Museum of Computing</a> in Bletchley Park, UK. "
     ]
    },
    {
     "cell_type": "markdown",
     "metadata": {
      "slideshow": {
       "slide_type": "slide"
      }
     },
     "source": [
      "## Points of interest in the Python biography\n",
      "\n",
      "* Created by Guido van Rossum\n",
      "    * Who is now the <a href='http://en.wikipedia.org/wiki/Benevolent_dictator_for_life'>Benevolent Dictator for Life (BDFL)</a>\n",
      "* Is open source\n",
      "    * Community maintained\n",
      "    * Features created by its users\n",
      "        * Adapts quickly to industry needs\n",
      "    * Free to use\n",
      "    * Consensus based development\n",
      "* Based on the C language\n",
      "    * Everything written in Python is translated to C before being executed.\n",
      "    * This does make execution technically slower than in C, but this is rarely a problem unless you're doing scientific computing.\n",
      "* Was designed with a philosophy\n",
      "    * And this design philosophy is maintained by the community."
     ]
    },
    {
     "cell_type": "code",
     "collapsed": false,
     "input": [
      ">>> import this"
     ],
     "language": "python",
     "metadata": {
      "slideshow": {
       "slide_type": "subslide"
      }
     },
     "outputs": [
      {
       "output_type": "stream",
       "stream": "stdout",
       "text": [
        "The Zen of Python, by Tim Peters\n",
        "\n",
        "Beautiful is better than ugly.\n",
        "Explicit is better than implicit.\n",
        "Simple is better than complex.\n",
        "Complex is better than complicated.\n",
        "Flat is better than nested.\n",
        "Sparse is better than dense.\n",
        "Readability counts.\n",
        "Special cases aren't special enough to break the rules.\n",
        "Although practicality beats purity.\n",
        "Errors should never pass silently.\n",
        "Unless explicitly silenced.\n",
        "In the face of ambiguity, refuse the temptation to guess.\n",
        "There should be one-- and preferably only one --obvious way to do it.\n",
        "Although that way may not be obvious at first unless you're Dutch.\n",
        "Now is better than never.\n",
        "Although never is often better than *right* now.\n",
        "If the implementation is hard to explain, it's a bad idea.\n",
        "If the implementation is easy to explain, it may be a good idea.\n",
        "Namespaces are one honking great idea -- let's do more of those!\n"
       ]
      }
     ],
     "prompt_number": 1
    },
    {
     "cell_type": "markdown",
     "metadata": {
      "slideshow": {
       "slide_type": "slide"
      }
     },
     "source": [
      "## Python can be said to be...\n",
      "\n",
      "* General purpose\n",
      "* Platform independent\n",
      "* An industry standard\n",
      "* <a href = \"http://cacm.acm.org/blogs/blog-cacm/176450-python-is-now-the-most-popular-introductory-teaching-language-at-top-us-universities/fulltext\">Currently the most popular language for introductory classes</a>\n",
      "\n",
      "It does this by being:\n",
      "\n",
      "* Interpreted\n",
      "* Strongly typed\n",
      "* Dynamic\n",
      "* .... ugh .....\n",
      "\n",
      "Let's get a chart out.  A lot of this chart will make more sense as we work through the material, so just try to keep the general concepts in mind and expect some fuzziness.\n"
     ]
    },
    {
     "cell_type": "markdown",
     "metadata": {
      "slideshow": {
       "slide_type": "subslide"
      }
     },
     "source": [
      "* x-axis - Explicitness:  Are datatypes able to dynamically change or must they be declared before use?\n",
      "* y-axis - \"Will it blend?\":  Does the language allow different datatypes to work together or does everything have to be the same?\n",
      "\n",
      "<img src='files/grid.png'/>"
     ]
    },
    {
     "cell_type": "markdown",
     "metadata": {
      "slideshow": {
       "slide_type": "slide"
      }
     },
     "source": [
      "## How did we get to Python?\n",
      "\n",
      "There is a fantastic history to this development, but a lot of the detail is beyond the scope of this workshop.  So I will stick to summing up the relevant facts that have gotten us to this point.\n",
      "\n",
      "Early computer languages started out very close to the computer's own language and were written for specific systems.  This made sense for the time, but was really hard.  These languages involve encoding both the \"what\" and the \"how\" with the instructions.  Early computer languages were far removed from human language."
     ]
    },
    {
     "cell_type": "markdown",
     "metadata": {
      "slideshow": {
       "slide_type": "subslide"
      }
     },
     "source": [
      "\n",
      "So what do I mean by very close to the computer language?  Let's try this situation:  Tell me how to walk across the room.\n",
      "\n",
      "* How we want to do it:  \"Walk to that spot over there.\"\n",
      "\n"
     ]
    },
    {
     "cell_type": "markdown",
     "metadata": {
      "slideshow": {
       "slide_type": "fragment"
      }
     },
     "source": [
      "However, this is presuming that I know how to walk.\n",
      "\n"
     ]
    },
    {
     "cell_type": "markdown",
     "metadata": {
      "slideshow": {
       "slide_type": "fragment"
      }
     },
     "source": [
      "* How those old languages would do it: \n",
      "    * Pick up your left foot\n",
      "    * Move it forward\n",
      "    * Place it down\n",
      "    * Steady, pause\n",
      "    * Pick up your right food\n",
      "    * Move it forward\n",
      "    * ...etc... You get the idea"
     ]
    },
    {
     "cell_type": "markdown",
     "metadata": {
      "slideshow": {
       "slide_type": "slide"
      }
     },
     "source": [
      "The evolution of these languages has taken a path of specialization, although almost all languages are moving further away from this highly explicit machine code. Various languages focused on data storage, business, or pure logic, and each of these contained more implicit knowledge, so that the programmer did not have to explictly define every single step of an operation.\n",
      "\n",
      "There have been a lot of languages, and new languages continue to be developed.  Of course, the development has been mostly by English speaking researchers and programmers, so the most commonly used langauges are very English-like.  But that's a story for a different conference..."
     ]
    },
    {
     "cell_type": "markdown",
     "metadata": {
      "slideshow": {
       "slide_type": "slide"
      }
     },
     "source": [
      "## How do we talk about programming languages?\n",
      "\n",
      "### Purpose and style\n",
      "\n",
      "Every language can be described in terms of the usage purpose and linguistic style.  "
     ]
    },
    {
     "cell_type": "markdown",
     "metadata": {
      "slideshow": {
       "slide_type": "subslide"
      }
     },
     "source": [
      "#### Purpose\n",
      "\n",
      "Programming languages exist for a reason or were created for a purpose.\n",
      "\n",
      "* A specific problem\n",
      "* An unfilled tool niche\n",
      "* As a beginner's learning langugage\n",
      "\n",
      "Examples:\n",
      "\n",
      "* PHP: initially created as someone's personal tool for websites and databases and has grown into a commercially used tool.\n",
      "* Python:  A hobby project that was started over the Christmas holidays.  Grew out of a philosophy about code.\n",
      "* Ada: Written to a US Department of Defense specification for use in military hardware, especially aviation. Designed to be highly robust so that planes don't fall out of the sky."
     ]
    },
    {
     "cell_type": "markdown",
     "metadata": {
      "slideshow": {
       "slide_type": "subslide"
      }
     },
     "source": [
      "\n",
      "#### Style\n",
      "\n",
      "Every language has a formal syntax for expressing ideas and actions.\n",
      "\n",
      "* Modern languages have nouns and verbs:  things and actions.\n",
      "* Some languages were explicitly created to express the syntax of formal logic.\n",
      "* Even though some keywords may look like English, that doesn't always mean the words make sense for what they actually do.\n",
      "    * `with` and `for` are good examples of this.  We'll be learning about each today.\n"
     ]
    },
    {
     "cell_type": "markdown",
     "metadata": {
      "slideshow": {
       "slide_type": "notes"
      }
     },
     "source": [
      "## How do we talk about programming languages?\n",
      "\n",
      "### Purpose and style\n",
      "\n",
      "Every language can be described in terms of the usage purpose and linguistic style.  \n",
      "\n",
      "#### Purpose\n",
      "\n",
      "Every language has a reason for existence.  Someone came up with it for a reason.  PHP is an interesting example of how the origins significantly influence the current usage.  PHP is one of the most commonly used langauges for dynamic websites was created by Rasmus Lerdorf for his own website and projects.  Having satisfied a need niche, others began asking to use the tool as well and adoption  grew to include even commercial enterprises.  However, because it was originally created as a personal project, there were little to no standards in place, and the language suffers from it's disorganized origins.\n",
      "\n",
      "While most languages can be adapted to nearly any type of prgammatic task, there are usually tasks that it has been optimized for.  For example, PHP is framed to deal with websites and connections to databases.  While it can be used for text processing purposes, it isn't exactly optimal or easy to do complex text processing tasks with it.  Python, however, has been extended with packages to be a powerful web language, but is highly optimized for working as a basic scripting language and includes excellent build in data and text processing tools.  Java, for example, lacks built in CSV reader libraries.\n",
      "\n",
      "#### Style\n",
      "\n",
      "We call programming languages \"languages\" because they are exactly that.  Each has a formal syntax for expressing actions and statements.  As I mentioned before, most commonly used programming languages are based around English.  However, this doesn't mean you should expect all of the vocabulary in those languages to make logical connections to English use.  Keywords will generally appear English-like or be real English words, but may be used in strange ways from what you expected.  Keep an open mind and put on your 'language learning hat' while going through this workshop.\n",
      "\n",
      "Remember that in our introductory courses we often started by simply memorizing certain phrases and formulas before diving deep into what the core syntax meant.  This is very much also true of programming languages."
     ]
    },
    {
     "cell_type": "markdown",
     "metadata": {
      "slideshow": {
       "slide_type": "slide"
      }
     },
     "source": [
      "## History of programming languages\n",
      "\n",
      "Things to look for in this chart:\n",
      "\n",
      "* Every language is connected to or influenced by another language.\n",
      "    * Sometimes this is due to a new language evolving directly out of an older one.\n",
      "    * Other times the creator can describe their influences for their design choices.\n",
      "* Knowing how a language was created is helpful as you move forward in learning other languages.\n",
      "* There are a lot of languages in active use.\n",
      "    * This speaks to the specialization that has occured in our modern era.\n",
      "    \n",
      "<a href = 'http://hightechhistory.files.wordpress.com/2010/04/history-poster20.gif'><img src='http://hightechhistory.files.wordpress.com/2010/04/history-poster20.gif'/></a>"
     ]
    },
    {
     "cell_type": "markdown",
     "metadata": {
      "slideshow": {
       "slide_type": "subslide"
      }
     },
     "source": [
      "## The modern programming languges\n",
      "\n",
      "This image provides an interesting overview of how these languages are used in industry.\n",
      "\n",
      "Note that Python is an industry standard language.\n",
      "\n",
      "<a href = 'http://cdn2.carlcheo.com/wp-content/uploads/2014/12/which-programming-language-should-i-learn-first-infographic.png'>This image is way too big to display here.  Click!</a>"
     ]
    },
    {
     "cell_type": "markdown",
     "metadata": {
      "slideshow": {
       "slide_type": "slide"
      }
     },
     "source": [
      "# Working through a programming problem\n",
      "\n",
      "Let's work through a problem just using your own language.\n",
      "\n",
      "Task:  Write a set of rules for assigning a letter grade to a numerical score.\n",
      "\n",
      "Write out the rules using whatever natural language you are comfortable with.\n",
      "\n",
      "Be sure to think about:\n",
      "\n",
      "* What kind of input are you expecting?\n",
      "* What are 'good' values and what are 'bad' values?\n",
      "    * Should you handle bad values differently?\n",
      "* Are all 'good' values supported?\n",
      "\n",
      "Take about 10 minues to brainstorm.  Feel free to work on groups and ask each other questions."
     ]
    },
    {
     "cell_type": "markdown",
     "metadata": {
      "slideshow": {
       "slide_type": "subslide"
      }
     },
     "source": [
      "## Test values\n",
      "\n",
      "* 101\n",
      "* 99.9\n",
      "* 70\n",
      "* 49\n",
      "* 0\n",
      "* 100\n",
      "* -1\n",
      "* 150"
     ]
    },
    {
     "cell_type": "markdown",
     "metadata": {
      "slideshow": {
       "slide_type": "subslide"
      }
     },
     "source": [
      "## What solutions did we come up with?"
     ]
    },
    {
     "cell_type": "markdown",
     "metadata": {
      "slideshow": {
       "slide_type": "slide"
      }
     },
     "source": [
      "# Break time!"
     ]
    },
    {
     "cell_type": "markdown",
     "metadata": {
      "slideshow": {
       "slide_type": "slide"
      }
     },
     "source": [
      "# Topic 2: Nouns (objects/data types) and verbs (operators)\n",
      "\n",
      "How does a computer understand the world?  Always keep in mind that everything is just 0s and 1s.  We, as humans, can look at things and recognize their content.  Computers cannot do this.  They depend on us telling them what things are."
     ]
    },
    {
     "cell_type": "markdown",
     "metadata": {
      "slideshow": {
       "slide_type": "slide"
      }
     },
     "source": [
      "## Objects\n",
      "\n",
      "Everything in Python is an 'object.'  This is actually a very technical statement that we will expand and clarify as we go throughout the workshop, and something that you will continue to explore as you learn more about programming.  I don't expect you to completely grasp what this concept means, so the purpose of this discussion is to just introduce the basic framework that we can explore more later."
     ]
    },
    {
     "cell_type": "markdown",
     "metadata": {
      "slideshow": {
       "slide_type": "subslide"
      }
     },
     "source": [
      "### Object what now?\n",
      "\n",
      "<a href = 'http://www.oxforddictionaries.com/us/definition/american_english/object'>Oxford English Dictionary</a> has a definition:  \"A person or thing to which a specified action or feeling is directed\"\n",
      "\n",
      "This is the meaning that we want to focus on."
     ]
    },
    {
     "cell_type": "markdown",
     "metadata": {
      "slideshow": {
       "slide_type": "fragment"
      }
     },
     "source": [
      "Let's take a look at a book.  What can we do with a book?\n",
      "\n",
      "* Read it\n",
      "* Catalog it\n",
      "* Preserve it"
     ]
    },
    {
     "cell_type": "markdown",
     "metadata": {
      "slideshow": {
       "slide_type": "fragment"
      }
     },
     "source": [
      "What information does a book have?\n",
      "\n",
      "* A title\n",
      "* A certain number of pages\n",
      "* A summary of content\n",
      "* An author"
     ]
    },
    {
     "cell_type": "markdown",
     "metadata": {
      "slideshow": {
       "slide_type": "fragment"
      }
     },
     "source": [
      "There are actions that can be taken on books.\n",
      "\n",
      "* Read them\n",
      "* Write in them\n",
      "* Copy them\n",
      "* etc."
     ]
    },
    {
     "cell_type": "markdown",
     "metadata": {
      "slideshow": {
       "slide_type": "notes"
      }
     },
     "source": [
      "## Objects slide notes\n",
      "\n",
      "Would we eat a book?  Would we write with a book?  Not really.  Going back to our definition, we can see that an object can receive actions.  I can read a book.  I can look up the book's title.  However, there are actions that I can't do to it.  Every object, in this sense, can hold a set of actions and values.\n",
      "\n",
      "And that's the key phrase that I want you to keep in mind as we go through this workshop.  Every object within Python, and we'll talk about what those are in a moment, is capable of receiving certaint types of actions and holding certain types of information.  Of everyhting that I've said in the past few minutes, that's the take-away phrase that I want you to hold in your mind."
     ]
    },
    {
     "cell_type": "markdown",
     "metadata": {
      "slideshow": {
       "slide_type": "slide"
      }
     },
     "source": [
      "## Prepare for the programming Autobahn here...\n",
      "\n",
      "I'm going to dive straight into data types and operators.  These are the basic elements used to write Python programs.  Once we get through this section, you know enough vocabulary to start learning how to do the neat things.\n",
      "\n",
      "Buckle up, we're going to zip through this.\n",
      "\n",
      "Remember, focus on listening and ingesting the concepts rather than writing down all the terminology.  The keywords will be repeated and you can always reference the slides as we move forward."
     ]
    },
    {
     "cell_type": "markdown",
     "metadata": {
      "slideshow": {
       "slide_type": "slide"
      }
     },
     "source": [
      "## Python's core data types (or core to the beginner interested in data)\n",
      "\n",
      "Going back to our analogy to human language, these data types are basically the types of nouns that we can have in our sentences.  They are the things that we talk about, the things that we do actions to.  There are actually a ton of different data types within Python, but I'm going to cover just the core ones that you need to care about immediately.  You'll pick up the other types as you do more, and most of the others are built on top of what I will be talking about.\n",
      "\n",
      "There are four groups this workshop will cover:  numbers, words, booleans, and containers.  The current section will cover the first three. A special section on containers will come later.\n",
      "\n",
      "We're going to meet our first helpful Python tool:  `type()`.  Throw something inside the `()` and Python will tell you what type of object it is seeing. The technical word for these tools are functions. We'll describe functions in more detail later.\n",
      "\n",
      "We're going to cover the big three now:\n",
      "\n",
      "* Numbers\n",
      "* Words\n",
      "* Booleans"
     ]
    },
    {
     "cell_type": "markdown",
     "metadata": {
      "slideshow": {
       "slide_type": "slide"
      }
     },
     "source": [
      "## Numbers\n",
      "\n",
      "Computers represent and store numbers differently than humans.  Languages like Java actually have five different numerical data types.  Python (at least in everyday use) only requires programmers to deal with two numerical datatypes. Why would we need more than one way to store numbers in the first place?\n",
      "\n",
      "This has to do with the legacy of early computing and how computers store data in memory. The key fact is that storing some kinds of numbers takes up less memory than other types of numbers.  With 64 units of memory space, practically any number can be stored. However, not all numbers need that much space. The vast majority of numbers only need 16 units of memory space. \n",
      "\n",
      "Recall our earlier discussion about how early computer languages were closer to the computer's internal structure. When memory was very limited and expensive, allowing a number to take up more memory than necessary could render a project impossible from an engineering or budgetary perspective.  Programmers gained a real benefit from the variety of numerical data types that allowed them fine control over how much memory to allocate for each number they needed to store.\n",
      "\n",
      "Compared to the early days of computing, the amount of memory available in today's computers is incredibly huge and cheap (though not infinite!) Programmers can afford to be more relaxed when it comes to managing memory. Python is also better than early languages at automatically deciding how much memory is needed to store a given number and so takes care of much of this in the background for us.  However, there are still two different numerical data types that we need to remember:\n",
      "\n",
      "* integers (whole numbers)\n",
      "* floating point number (decimal numbers)"
     ]
    },
    {
     "cell_type": "markdown",
     "metadata": {
      "slideshow": {
       "slide_type": "subslide"
      }
     },
     "source": [
      "### Integers:  Whole numbers\n",
      "\n",
      "The `int` type, short for integer, is used for whole numbers, numbers without any decimal points.  "
     ]
    },
    {
     "cell_type": "code",
     "collapsed": false,
     "input": [
      "1 + 1"
     ],
     "language": "python",
     "metadata": {
      "slideshow": {
       "slide_type": "fragment"
      }
     },
     "outputs": [
      {
       "metadata": {},
       "output_type": "pyout",
       "prompt_number": 1,
       "text": [
        "2"
       ]
      }
     ],
     "prompt_number": 1
    },
    {
     "cell_type": "code",
     "collapsed": false,
     "input": [
      "type(1)"
     ],
     "language": "python",
     "metadata": {
      "slideshow": {
       "slide_type": "fragment"
      }
     },
     "outputs": [
      {
       "metadata": {},
       "output_type": "pyout",
       "prompt_number": 2,
       "text": [
        "int"
       ]
      }
     ],
     "prompt_number": 2
    },
    {
     "cell_type": "markdown",
     "metadata": {
      "slideshow": {
       "slide_type": "subslide"
      }
     },
     "source": [
      "### Floating point numbers:  Numbers with decimal values\n",
      "\n",
      "The `float` type, short for floating point number, is any number with a decimal value."
     ]
    },
    {
     "cell_type": "code",
     "collapsed": false,
     "input": [
      "1.5 + 2.5"
     ],
     "language": "python",
     "metadata": {
      "slideshow": {
       "slide_type": "fragment"
      }
     },
     "outputs": [
      {
       "metadata": {},
       "output_type": "pyout",
       "prompt_number": 8,
       "text": [
        "4.0"
       ]
      }
     ],
     "prompt_number": 8
    },
    {
     "cell_type": "code",
     "collapsed": false,
     "input": [
      "1.5 + .3"
     ],
     "language": "python",
     "metadata": {
      "slideshow": {
       "slide_type": "fragment"
      }
     },
     "outputs": [
      {
       "metadata": {},
       "output_type": "pyout",
       "prompt_number": 9,
       "text": [
        "1.8"
       ]
      }
     ],
     "prompt_number": 9
    },
    {
     "cell_type": "code",
     "collapsed": false,
     "input": [
      "type(1.5)"
     ],
     "language": "python",
     "metadata": {
      "slideshow": {
       "slide_type": "fragment"
      }
     },
     "outputs": [
      {
       "metadata": {},
       "output_type": "pyout",
       "prompt_number": 10,
       "text": [
        "float"
       ]
      }
     ],
     "prompt_number": 10
    },
    {
     "cell_type": "markdown",
     "metadata": {
      "slideshow": {
       "slide_type": "subslide"
      }
     },
     "source": [
      "### Interaction of `int` and `float`\n",
      "\n",
      "`int` and `float` numbers get along pretty well, but there are some aspects which you might find surprising. We'll go into more detail about this later.  (You haven't met some of these operators yet, but you can understand the basics!)"
     ]
    },
    {
     "cell_type": "code",
     "collapsed": false,
     "input": [
      "1 + 0.4"
     ],
     "language": "python",
     "metadata": {
      "slideshow": {
       "slide_type": "fragment"
      }
     },
     "outputs": [
      {
       "metadata": {},
       "output_type": "pyout",
       "prompt_number": 3,
       "text": [
        "1.4"
       ]
      }
     ],
     "prompt_number": 3
    },
    {
     "cell_type": "code",
     "collapsed": false,
     "input": [
      "4 - .1"
     ],
     "language": "python",
     "metadata": {
      "slideshow": {
       "slide_type": "fragment"
      }
     },
     "outputs": [
      {
       "metadata": {},
       "output_type": "pyout",
       "prompt_number": 4,
       "text": [
        "3.9"
       ]
      }
     ],
     "prompt_number": 4
    },
    {
     "cell_type": "code",
     "collapsed": false,
     "input": [
      "type(1)"
     ],
     "language": "python",
     "metadata": {
      "slideshow": {
       "slide_type": "fragment"
      }
     },
     "outputs": [
      {
       "metadata": {},
       "output_type": "pyout",
       "prompt_number": 5,
       "text": [
        "int"
       ]
      }
     ],
     "prompt_number": 5
    },
    {
     "cell_type": "code",
     "collapsed": false,
     "input": [
      "type(1.0)"
     ],
     "language": "python",
     "metadata": {
      "slideshow": {
       "slide_type": "fragment"
      }
     },
     "outputs": [
      {
       "metadata": {},
       "output_type": "pyout",
       "prompt_number": 6,
       "text": [
        "float"
       ]
      }
     ],
     "prompt_number": 6
    },
    {
     "cell_type": "code",
     "collapsed": false,
     "input": [
      "1 == 1.0"
     ],
     "language": "python",
     "metadata": {
      "slideshow": {
       "slide_type": "fragment"
      }
     },
     "outputs": [
      {
       "metadata": {},
       "output_type": "pyout",
       "prompt_number": 7,
       "text": [
        "True"
       ]
      }
     ],
     "prompt_number": 7
    },
    {
     "cell_type": "markdown",
     "metadata": {
      "slideshow": {
       "slide_type": "slide"
      }
     },
     "source": [
      "## Words\n",
      "\n",
      "Words are pretty simple here.  All the basic characters you see, the ones you can see and type on your keyboard, are represented as characters.  These characters can be strung together as strings! (pun intended)\n",
      "\n",
      "### Strings\n",
      "\n",
      "The `str` type, short for string, contains character data.  There are three ways to indicate that something is a string.\n",
      "\n",
      "\n",
      "`\"like this, with double quotes\"`\n",
      "\n",
      "`'or like this, with single quotes'`\n",
      "\n",
      "`\"\"\" or use`<br>\n",
      "`three double quotes`<br>\n",
      "`together to make`<br>\n",
      "`a multi-line string\"\"\"`\n",
      "\n",
      "Feel free to use either ' or \", but try to be consistent.  The multi-line string is generally used either for certain types of documentation modes.\n"
     ]
    },
    {
     "cell_type": "markdown",
     "metadata": {
      "slideshow": {
       "slide_type": "subslide"
      }
     },
     "source": [
      "### Why do we need three different ways to write strings?\n"
     ]
    },
    {
     "cell_type": "code",
     "collapsed": false,
     "input": [
      "print \"Feel free to use either single or double quotes\"\n",
      "\n",
      "print 'You just need to make them match.'"
     ],
     "language": "python",
     "metadata": {
      "slideshow": {
       "slide_type": "fragment"
      }
     },
     "outputs": [
      {
       "output_type": "stream",
       "stream": "stdout",
       "text": [
        "Feel free to use either single or double quotes\n",
        "You just need to make them match.\n"
       ]
      }
     ],
     "prompt_number": 12
    },
    {
     "cell_type": "markdown",
     "metadata": {
      "slideshow": {
       "slide_type": "subslide"
      }
     },
     "source": [
      "### So what if you need to put a double quote in a string?\n"
     ]
    },
    {
     "cell_type": "code",
     "collapsed": false,
     "input": [
      "print \"You can escape it out, like this: \\\" see the backslash?\""
     ],
     "language": "python",
     "metadata": {
      "slideshow": {
       "slide_type": "fragment"
      }
     },
     "outputs": [
      {
       "output_type": "stream",
       "stream": "stdout",
       "text": [
        "You can escape it out, like this: \" see the backslash?\n"
       ]
      }
     ],
     "prompt_number": 11
    },
    {
     "cell_type": "markdown",
     "metadata": {
      "slideshow": {
       "slide_type": "subslide"
      }
     },
     "source": [
      "### Remember that the quotes tells Python that something is a string"
     ]
    },
    {
     "cell_type": "code",
     "collapsed": false,
     "input": [
      "type(\"1\")"
     ],
     "language": "python",
     "metadata": {
      "slideshow": {
       "slide_type": "fragment"
      }
     },
     "outputs": [
      {
       "metadata": {},
       "output_type": "pyout",
       "prompt_number": 13,
       "text": [
        "str"
       ]
      }
     ],
     "prompt_number": 13
    },
    {
     "cell_type": "code",
     "collapsed": false,
     "input": [
      "type(1)"
     ],
     "language": "python",
     "metadata": {
      "slideshow": {
       "slide_type": "fragment"
      }
     },
     "outputs": [
      {
       "metadata": {},
       "output_type": "pyout",
       "prompt_number": 14,
       "text": [
        "int"
       ]
      }
     ],
     "prompt_number": 14
    },
    {
     "cell_type": "code",
     "collapsed": false,
     "input": [
      "1 == \"1\""
     ],
     "language": "python",
     "metadata": {
      "slideshow": {
       "slide_type": "fragment"
      }
     },
     "outputs": [
      {
       "metadata": {},
       "output_type": "pyout",
       "prompt_number": 15,
       "text": [
        "False"
       ]
      }
     ],
     "prompt_number": 15
    },
    {
     "cell_type": "markdown",
     "metadata": {
      "slideshow": {
       "slide_type": "slide"
      }
     },
     "source": [
      "## Boolean values\n",
      "\n",
      "These are the data types that we use to investigate things.  There are only two values to remember:\n",
      "\n",
      "* `True`\n",
      "* `False`\n",
      "\n",
      "You should recall seeing these appear in some of our previous examples."
     ]
    },
    {
     "cell_type": "markdown",
     "metadata": {
      "slideshow": {
       "slide_type": "subslide"
      }
     },
     "source": [
      "### Checking for true and false in programs\n",
      "\n",
      "Many times we want to check if something equals another thing.  For example:\n",
      "\n",
      "* Is this a title that I have seen already?\n",
      "* Was this word found more than 100 times?\n",
      "* Is the length of the word longer than 10 characters?\n",
      "\n",
      "These are all questions that we might need to ask in our programs.  The answers we receive come in the form of `bool` objects (`True` and `False`)."
     ]
    },
    {
     "cell_type": "markdown",
     "metadata": {
      "slideshow": {
       "slide_type": "subslide"
      }
     },
     "source": [
      "That's pretty much everything you need to know!  Let's look at some examples:\n",
      "\n",
      "(again, there is some notation here that you haven't met before, but you will soon)"
     ]
    },
    {
     "cell_type": "code",
     "collapsed": false,
     "input": [
      "1 == 1"
     ],
     "language": "python",
     "metadata": {
      "slideshow": {
       "slide_type": "fragment"
      }
     },
     "outputs": [
      {
       "metadata": {},
       "output_type": "pyout",
       "prompt_number": 17,
       "text": [
        "True"
       ]
      }
     ],
     "prompt_number": 17
    },
    {
     "cell_type": "code",
     "collapsed": false,
     "input": [
      "5 < 10"
     ],
     "language": "python",
     "metadata": {
      "slideshow": {
       "slide_type": "fragment"
      }
     },
     "outputs": [
      {
       "metadata": {},
       "output_type": "pyout",
       "prompt_number": 18,
       "text": [
        "True"
       ]
      }
     ],
     "prompt_number": 18
    },
    {
     "cell_type": "code",
     "collapsed": false,
     "input": [
      "len(\"foo\") > 5 # len() checks the length of whatever you pass it"
     ],
     "language": "python",
     "metadata": {
      "slideshow": {
       "slide_type": "fragment"
      }
     },
     "outputs": [
      {
       "metadata": {},
       "output_type": "pyout",
       "prompt_number": 20,
       "text": [
        "False"
       ]
      }
     ],
     "prompt_number": 20
    },
    {
     "cell_type": "markdown",
     "metadata": {
      "slideshow": {
       "slide_type": "fragment"
      }
     },
     "source": [
      "We'll meet up again with boolean types when we get into conditionals."
     ]
    },
    {
     "cell_type": "markdown",
     "metadata": {
      "slideshow": {
       "slide_type": "slide"
      }
     },
     "source": [
      "## Switching gears...\n",
      "\n",
      "Now that we know the basic data types for our content, let's talk a little bit about operators and how to perform operations on these data types.  Then we'll talk about containers in the next section."
     ]
    },
    {
     "cell_type": "markdown",
     "metadata": {
      "slideshow": {
       "slide_type": "slide"
      }
     },
     "source": [
      "### Operators\n",
      "\n",
      "Now that we know a little bit about the nouns that we use within our programs, let's start exploring some of the verbs.\n",
      "\n",
      "Operators are the most basic actions that we can take on objects.  These comprise mostly the traditional math operations that you remember from elementary school, but some can be used outside of math concepts."
     ]
    },
    {
     "cell_type": "markdown",
     "metadata": {
      "slideshow": {
       "slide_type": "subslide"
      }
     },
     "source": [
      "### The basic operators\n",
      "\n",
      "\n",
      "| Operator |                       Numeric Operation                       | Example |\n",
      "|:--------:|:-------------------------------------------------------------:|:----------------:|\n",
      "| +        | Addition                                                      | `>>> 2 + 5` <br> `7` | \n",
      "| -        | Subtraction                                                   | `>>> 2 - 5` <br> `-3` | \n",
      "| *        | Multiplication                                                | `>>> 2 * 5` <br> `10` | \n",
      "| **       | Exponent                                                      | `>>> 2 ** 5` <br> `32` | \n",
      "| /        | division <br>Python2.\\*: floor division<br>Python 3.\\*: true division | `>>> 2 / 5` <br> `0`<br>`>>> 2. / 5.` <br> `0.4` | \n",
      "| //       | floor division<br>both 2.\\* and 3.\\*                            | `>>> 2 // 5` <br> `0`<br>`>>> 2. // 5.` <br> `0.0` | \n",
      "| %        | modulo<br>(returns the remainder)                                | `>>> 2 % 5` <br> `2`<br>`>>> 4 % 2` <br> `0` | "
     ]
    },
    {
     "cell_type": "markdown",
     "metadata": {
      "slideshow": {
       "slide_type": "subslide"
      }
     },
     "source": [
      "### Extended discussion on division\n",
      "\n",
      "Division in Python 2 and Python 3 works differently.\n",
      "\n",
      "* True division\n",
      "    * This is division that includes the full decimal value.\n",
      "    * When we say \"division\" we generally mean \"true division\"\n",
      "* Floor division\n",
      "    * This type of division removes whatever that decimal value is and returns the integer."
     ]
    },
    {
     "cell_type": "markdown",
     "metadata": {
      "slideshow": {
       "slide_type": "subslide"
      }
     },
     "source": [
      "To get true division in Python 2:\n",
      "\n",
      "* Convert your ints into floats\n",
      "* Use `from __future__ import division`"
     ]
    },
    {
     "cell_type": "code",
     "collapsed": false,
     "input": [
      "2 / 5"
     ],
     "language": "python",
     "metadata": {
      "slideshow": {
       "slide_type": "fragment"
      }
     },
     "outputs": [
      {
       "metadata": {},
       "output_type": "pyout",
       "prompt_number": 23,
       "text": [
        "0"
       ]
      }
     ],
     "prompt_number": 23
    },
    {
     "cell_type": "code",
     "collapsed": false,
     "input": [
      "2. / 5.\n"
     ],
     "language": "python",
     "metadata": {
      "slideshow": {
       "slide_type": "fragment"
      }
     },
     "outputs": [
      {
       "metadata": {},
       "output_type": "pyout",
       "prompt_number": 26,
       "text": [
        "0.4"
       ]
      }
     ],
     "prompt_number": 26
    },
    {
     "cell_type": "code",
     "collapsed": false,
     "input": [
      "from __future__ import division\n",
      "\n",
      "2 / 5"
     ],
     "language": "python",
     "metadata": {
      "slideshow": {
       "slide_type": "fragment"
      }
     },
     "outputs": [
      {
       "metadata": {},
       "output_type": "pyout",
       "prompt_number": 27,
       "text": [
        "0.4"
       ]
      }
     ],
     "prompt_number": 27
    },
    {
     "cell_type": "markdown",
     "metadata": {
      "slideshow": {
       "slide_type": "subslide"
      }
     },
     "source": [
      "### Modulo?\n",
      "\n",
      "Referred to as 'mod', modulo returns the remainder of your division value.\n",
      "\n",
      "Remember the parts of a division calculation:\n",
      "\n",
      "* Quotient\n",
      "    * The 'whole number' value\n",
      "* Remainder\n",
      "    * What is 'left over'\n",
      "    \n",
      "What is reutned from modulo is not the decimal value!"
     ]
    },
    {
     "cell_type": "code",
     "collapsed": false,
     "input": [
      "5. / 2."
     ],
     "language": "python",
     "metadata": {
      "slideshow": {
       "slide_type": "fragment"
      }
     },
     "outputs": [
      {
       "metadata": {},
       "output_type": "pyout",
       "prompt_number": 29,
       "text": [
        "2.5"
       ]
      }
     ],
     "prompt_number": 29
    },
    {
     "cell_type": "code",
     "collapsed": false,
     "input": [
      "5 % 2"
     ],
     "language": "python",
     "metadata": {
      "slideshow": {
       "slide_type": "fragment"
      }
     },
     "outputs": [
      {
       "metadata": {},
       "output_type": "pyout",
       "prompt_number": 30,
       "text": [
        "1"
       ]
      }
     ],
     "prompt_number": 30
    },
    {
     "cell_type": "markdown",
     "metadata": {
      "slideshow": {
       "slide_type": "subslide"
      }
     },
     "source": [
      "#### Remainders and decimals in context\n",
      "\n",
      "(AKA: Elizabeth suffered through elementary school flashbacks to make this slide)\n",
      "\n",
      "<img src = \"longdivision2.png\"/> <img src = \"longdiv1.png\"/> "
     ]
    },
    {
     "cell_type": "markdown",
     "metadata": {
      "slideshow": {
       "slide_type": "fragment"
      }
     },
     "source": []
    },
    {
     "cell_type": "markdown",
     "metadata": {},
     "source": [
      "## More operators\n",
      "\n",
      "The concept of 'overloading' in programming means that the same name or symbol may be used in multiple contexts.  Some of the operators that we just learned about will work with other data types than numbers."
     ]
    },
    {
     "cell_type": "code",
     "collapsed": false,
     "input": [
      "\"a\" + \"a\""
     ],
     "language": "python",
     "metadata": {
      "slideshow": {
       "slide_type": "fragment"
      }
     },
     "outputs": [
      {
       "metadata": {},
       "output_type": "pyout",
       "prompt_number": 38,
       "text": [
        "'aa'"
       ]
      }
     ],
     "prompt_number": 38
    },
    {
     "cell_type": "code",
     "collapsed": false,
     "input": [
      "\"hello\" * 4"
     ],
     "language": "python",
     "metadata": {
      "slideshow": {
       "slide_type": "fragment"
      }
     },
     "outputs": [
      {
       "metadata": {},
       "output_type": "pyout",
       "prompt_number": 37,
       "text": [
        "'hellohellohellohello'"
       ]
      }
     ],
     "prompt_number": 37
    },
    {
     "cell_type": "code",
     "collapsed": false,
     "input": [
      "\"hello\" + \" \" * 5 + \"world\""
     ],
     "language": "python",
     "metadata": {
      "slideshow": {
       "slide_type": "fragment"
      }
     },
     "outputs": [
      {
       "metadata": {},
       "output_type": "pyout",
       "prompt_number": 39,
       "text": [
        "'hello     world'"
       ]
      }
     ],
     "prompt_number": 39
    },
    {
     "cell_type": "markdown",
     "metadata": {
      "slideshow": {
       "slide_type": "fragment"
      }
     },
     "source": [
      "There are more of these, but we don't know those data types yet!"
     ]
    },
    {
     "cell_type": "markdown",
     "metadata": {},
     "source": [
      "# "
     ]
    }
   ],
   "metadata": {}
  }
 ]
}