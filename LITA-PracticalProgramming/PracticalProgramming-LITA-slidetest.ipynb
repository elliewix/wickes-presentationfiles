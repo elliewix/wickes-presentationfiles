{
 "metadata": {
  "name": ""
 },
 "nbformat": 3,
 "nbformat_minor": 0,
 "worksheets": [
  {
   "cells": [
    {
     "cell_type": "code",
     "collapsed": false,
     "input": [
      "from IPython.display import HTML\n",
      "from IPython.display import display\n",
      "from IPython.display import Image"
     ],
     "language": "python",
     "metadata": {
      "slideshow": {
       "slide_type": "skip"
      }
     },
     "outputs": [],
     "prompt_number": 1
    },
    {
     "cell_type": "markdown",
     "metadata": {
      "slideshow": {
       "slide_type": "slide"
      }
     },
     "source": [
      "# Practical Programming, ALA-LITA workshop\n",
      "\n",
      "## Welcome!!\n",
      "\n",
      "<a href=\"https://github.com/elliewix/\">github link to presentation materials</a>\n",
      "\n",
      "## Schedule\n",
      "\n",
      "* 8:30 - 9:00:  Introductions\n",
      "* 9:00 - 9:30:  Software checks\n",
      "* 9:30 - 10:00:  Historical overview of programming languages\n",
      "* 10:00 - 10:30:  Talking through a programming problem\n",
      "* 10:30 - 10:45:  Break!\n",
      "* 10:45 - 11:30:  Data types and operators\n",
      "* 11:30 - 12:00: Containers\n",
      "* 12:00 - 1:00:  Lunch\n",
      "* 1:00 - 1:30:  Let's dig in\n",
      "* 2:00 - 3:00: Looping\n",
      "* 3:00 - 3:30: Discussion on searcing strategies\n",
      "* 3:30 - 4:00: Where to go from here\n",
      "\n",
      "# Pre-introduction task!\n",
      "\n",
      "Start downloading PyCharm Educational Edition <a href=\"https://www.jetbrains.com/pycharm-educational/\">Download here</a>\n",
      "\n",
      "Start the install process if you feel comfortable with it.  Tip:  all the standard stuff is fine.  Just click 'okay' a bunch."
     ]
    },
    {
     "cell_type": "markdown",
     "metadata": {
      "slideshow": {
       "slide_type": "slide"
      }
     },
     "source": [
      "# Who am I?\n",
      "\n",
      "Elizabeth Wickes\n",
      "\n",
      "Various types of contact info:\n",
      "\n",
      "* wickes1@illinois.edu\n",
      "* <a href=\"http://www.elizabethwickes.com\">elizabethwickes.com</a>\n",
      "* <a href=\"https://twitter.com/elliewix\">@elliewix</a>\n",
      "\n",
      "Metadata:\n",
      "\n",
      "* GSLIS (UIUC) Master's student in data curation and socio-technical data analytics\n",
      "* Center for Informatics Research in Science and Scholarship (CIRSS) RA\n",
      "* Co-Organizer of the Champaign-Urbana Python User's Group (Py-CU)\n",
      "* Pro-bono data monkey"
     ]
    },
    {
     "cell_type": "markdown",
     "metadata": {
      "slideshow": {
       "slide_type": "subslide"
      }
     },
     "source": [
      "# Teaching Style\n",
      "\n",
      "I want to take a moment to talk about my teaching style before we start really diving into the programming content.  \n",
      "\n",
      "* I will make you talk, but usually as a group.\n",
      "* I will try to keep you focused on practicing your vocabulary for these new concepts.\n",
      "* I will try to 'prime' you for certain concepts that will be coming up.\n",
      "    * So some of this may be introducing a concept that we will build on.\n",
      "    * Feel free to mentally check out in portions of the highly theoretical stuff.\n",
      "* There are no stupid questions:\n",
      "    * Only things I haven't explained yet, or explained poorly.\n",
      "    * Feel free to stop me if I'm being confusing.\n",
      "    * But I reserve the right to say that I'm getting to that :-)\n",
      "* We're all students and peers in this room.\n",
      "* Let me know if there are learning needs I can accommodate.\n",
      "\n",
      "This is a practical programming workshop, so I'm going to stick to the skills that I feel are vital for jumping into projcts.  However, this does not mean that we should skip over certain theoretical discussions.  If I'm talking about theoretical concepts it is because I feel like you need it.  This also means that I will be skipping over some more non-essenetial topics because you can pick them up on your own later."
     ]
    },
    {
     "cell_type": "markdown",
     "metadata": {
      "slideshow": {
       "slide_type": "subslide"
      }
     },
     "source": [
      "# And you?\n",
      "\n",
      "* Name\n",
      "* Institution\n",
      "* What brings you here?\n",
      "    * Curiosity?  Specific project?\n",
      "* What experience in programming do you have?"
     ]
    },
    {
     "cell_type": "markdown",
     "metadata": {
      "slideshow": {
       "slide_type": "slide"
      }
     },
     "source": [
      "## Software Checks!\n",
      "\n",
      "### Mac Users\n",
      "\n",
      "You're set!  You already have Python on your system. We're still going to start you off with PyCharm, but I can show you other programs that would also be good to know about.\n",
      "\n",
      "### Windows users\n",
      "\n",
      "Go ahead and install PyCharm.  It should install Python as part of it.  We can go over some other tools at the end as well."
     ]
    },
    {
     "cell_type": "markdown",
     "metadata": {
      "slideshow": {
       "slide_type": "slide"
      }
     },
     "source": [
      "## Historical overview of programming languages\n",
      "\n",
      "### Computers are tools, but they aren't magic\n",
      "\n",
      "* Every computer has a specific language.\n",
      "* We need to be able to tell computers what to do, but in a way that we can speak."
     ]
    },
    {
     "cell_type": "markdown",
     "metadata": {
      "slideshow": {
       "slide_type": "fragment"
      }
     },
     "source": [
      "<iframe src=http://en.wikipedia.org/wiki/List_of_programming_languages width=700 height=350></iframe>"
     ]
    },
    {
     "cell_type": "markdown",
     "metadata": {
      "slideshow": {
       "slide_type": "slide"
      }
     },
     "source": [
      "### Programming languages can be classified into groups\n",
      "\n",
      "We're librarians, we like ontologies, right?\n",
      "\n",
      "*Very* roughly, programming languages can be described by their:\n"
     ]
    },
    {
     "cell_type": "markdown",
     "metadata": {
      "slideshow": {
       "slide_type": "fragment"
      }
     },
     "source": [
      "* Purpose:\n",
      "    * Web languages (HTML, PHP, JavaScript, etc...)\n",
      "    * Software languages (Java, C++, etc...)"
     ]
    },
    {
     "cell_type": "markdown",
     "metadata": {
      "slideshow": {
       "slide_type": "fragment"
      }
     },
     "source": [
      "* Content:\n",
      "    * Language style\n",
      "    * Abstraction level\n",
      "    * Methodological approach\n",
      "    * etc..."
     ]
    },
    {
     "cell_type": "markdown",
     "metadata": {
      "slideshow": {
       "slide_type": "fragment"
      }
     },
     "source": [
      "### That's neat, but what about Python?\n",
      "\n",
      "Python is a modern programming language and is the language of this workshop."
     ]
    },
    {
     "cell_type": "markdown",
     "metadata": {
      "slideshow": {
       "slide_type": "slide"
      }
     },
     "source": [
      "# What is Python?\n",
      "\n",
      "<img src = 'pythonselfie.jpg'/>\n",
      "\n",
      "(A selfie with Python on the history of programming languages at the <a href = \"http://www.tnmoc.org/\">The National Museum of Computing</a> in Bletchley Park, UK. "
     ]
    },
    {
     "cell_type": "code",
     "collapsed": false,
     "input": [
      "# python does have some creative documentation...\n",
      "import this"
     ],
     "language": "python",
     "metadata": {
      "slideshow": {
       "slide_type": "subslide"
      }
     },
     "outputs": [
      {
       "output_type": "stream",
       "stream": "stdout",
       "text": [
        "The Zen of Python, by Tim Peters\n",
        "\n",
        "Beautiful is better than ugly.\n",
        "Explicit is better than implicit.\n",
        "Simple is better than complex.\n",
        "Complex is better than complicated.\n",
        "Flat is better than nested.\n",
        "Sparse is better than dense.\n",
        "Readability counts.\n",
        "Special cases aren't special enough to break the rules.\n",
        "Although practicality beats purity.\n",
        "Errors should never pass silently.\n",
        "Unless explicitly silenced.\n",
        "In the face of ambiguity, refuse the temptation to guess.\n",
        "There should be one-- and preferably only one --obvious way to do it.\n",
        "Although that way may not be obvious at first unless you're Dutch.\n",
        "Now is better than never.\n",
        "Although never is often better than *right* now.\n",
        "If the implementation is hard to explain, it's a bad idea.\n",
        "If the implementation is easy to explain, it may be a good idea.\n",
        "Namespaces are one honking great idea -- let's do more of those!\n"
       ]
      }
     ],
     "prompt_number": 1
    },
    {
     "cell_type": "markdown",
     "metadata": {
      "slideshow": {
       "slide_type": "slide"
      }
     },
     "source": [
      "# Python can be said to be...\n",
      "\n",
      "* General purpose\n",
      "* Platform independent\n",
      "* An industry standard\n",
      "* <a href = \"http://cacm.acm.org/blogs/blog-cacm/176450-python-is-now-the-most-popular-introductory-teaching-language-at-top-us-universities/fulltext\">Currently the most popular language for introductory classes</a>\n",
      "\n",
      "It does this by being:\n",
      "\n",
      "* Interpreted\n",
      "* Strongly typed\n",
      "* Dynamic\n",
      "* .... ugh .....\n",
      "\n",
      "Let's get a chart out\n"
     ]
    },
    {
     "cell_type": "markdown",
     "metadata": {
      "slideshow": {
       "slide_type": "subslide"
      }
     },
     "source": [
      "<img src='files/grid.png'/>"
     ]
    },
    {
     "cell_type": "markdown",
     "metadata": {
      "slideshow": {
       "slide_type": "slide"
      }
     },
     "source": [
      "# But how did we get to Python?\n",
      "\n",
      "There is a fantastic history to this development, but a lot of the detail is beyond the scope of this workshop.  So I will stick to summing up the relevant facts that have gotten us to this point.\n",
      "\n",
      "Languages started out very close to the computer language and were written for specific systems.  This made sense for the time, but was really really hard.  These languages involve encoding both the \"what\" and the \"how\" with the instructions.  These langauges were very far removed from human language."
     ]
    },
    {
     "cell_type": "markdown",
     "metadata": {
      "slideshow": {
       "slide_type": "subslide"
      }
     },
     "source": [
      "\n",
      "So what do I mean by very close to the computer language?  Let's try this situation:  Tell me how to walk across the room.\n",
      "\n",
      "* How we want to do it:  \"Walk to that spot over there.\"\n",
      "\n"
     ]
    },
    {
     "cell_type": "markdown",
     "metadata": {
      "slideshow": {
       "slide_type": "fragment"
      }
     },
     "source": [
      "However, this is presuming that I know how to walk.\n",
      "\n"
     ]
    },
    {
     "cell_type": "markdown",
     "metadata": {
      "slideshow": {
       "slide_type": "fragment"
      }
     },
     "source": [
      "* How those old languages would do it: \n",
      "    * Pick up your left foot\n",
      "    * Move it forward\n",
      "    * Place it down\n",
      "    * Steady, pause\n",
      "    * Pick up your right food\n",
      "    * Move it forward\n",
      "    * ...etc... You get the idea"
     ]
    },
    {
     "cell_type": "markdown",
     "metadata": {
      "slideshow": {
       "slide_type": "slide"
      }
     },
     "source": [
      "The evolution of these languages has taken a path of general specialization with almost all languages moving further away from this machine code.\n",
      "\n",
      "Langauges then began to branch out by purpose and style.  Some languages focused on systems, business, or pure logic.\n",
      "\n",
      "There have been a lot of languages, and new languages continue to be developed.  Of course, the development has been mostly by English speaking reseachers and programmers, so the most commonly used langauges are very English-like.  But that's a story for a different conference..."
     ]
    },
    {
     "cell_type": "markdown",
     "metadata": {
      "slideshow": {
       "slide_type": "slide"
      }
     },
     "source": [
      "# How do we talk about programming languages?\n",
      "\n",
      "## Purpose and style\n",
      "\n",
      "Every language can be described in terms of the usage purpose and linguistic style.  \n",
      "\n",
      "### Purpose\n",
      "\n",
      "Programming languages exist for a reason or were created for a purpose.\n",
      "\n",
      "* A specific problem\n",
      "* An unfilled tool niche\n",
      "* As a beginner's learning langugage\n",
      "\n",
      "Examples:\n",
      "\n",
      "* PHP: created as someone's personal tool for websites and databases, has grown from there.\n",
      "* Python:  A hobby project that was started over a the Christmas holidays.  Grew out of a philosophy about code.\n",
      "\n",
      "### Style\n",
      "\n",
      "Every language has a formal syntax for expressing ideas and actions.\n",
      "\n",
      "* Modern languages have nouns and verbs:  things and actions.\n",
      "* Some languages were explicitly created to express the syntax of formal logic.\n",
      "* Even though some keywords may look like English, that doesn't always mean the words make sense for what they actualy do.\n",
      "    * `with` and `for` are good examples of this.  We'll be learning about each today.\n"
     ]
    },
    {
     "cell_type": "markdown",
     "metadata": {
      "slideshow": {
       "slide_type": "notes"
      }
     },
     "source": [
      "# How do we talk about programming languages?\n",
      "\n",
      "## Purpose and style\n",
      "\n",
      "Every language can be described in terms of the usage purpose and linguistic style.  \n",
      "\n",
      "### Purpose\n",
      "\n",
      "Every language has a reason for existance.  Someone came up with it for a reason.  PHP is an interesting example of how the origins significantly influence the current usage.  PHP is one of the most commonly used langauges for dynamic websites was created by Rasmus Lerdorf for his own website and projects.  Having satisfied a need niche, others began asking to use the tool as well and adoption  grew to include even commercial enterprises.  However, because it was originally created as a personal project, there were little to no standards in place, and the language suffers from it's disorganized origins.\n",
      "\n",
      "While most languages can be adapted to nearly any type of prgammatic task, there are usually tasks that it has been optimized for.  For example, PHP is framed to deal with websites and connections to databases.  While it can be used for text processing purposes, it isn't exactly optimal or easy to do complex text processing tasks with it.  Python, however, has been extended with packages to be a powerful web language, but is highly optimized for working as a basic scripting language and includes excellent build in data and text processing tools.  Java, for example, lacks built in CSV reader libraries.\n",
      "\n",
      "### Style\n",
      "\n",
      "We call programming languages \"languages\" because they are exactly that.  Each has a formal syntax for expressing actions and statements.  As I mentioned before, most commonly used programming languages are based around English.  However, this doesn't mean you should expect all of the vocabulary in those languages to make logical connections to English use.  Keywords will generally appear English-like or be real English words, but may be used in strange ways from what you expected.  Keep an open mind and put on your 'language learning hat' while going through this workshop.\n",
      "\n",
      "Remember that in our introductory courses we often started by simply memorizing certain phrases and formulas before diving deep into what the core syntax meant.  This is very much also true of programming languages."
     ]
    },
    {
     "cell_type": "markdown",
     "metadata": {
      "slideshow": {
       "slide_type": "slide"
      }
     },
     "source": [
      "# History of programming languages\n",
      "\n",
      "Things to look for in this chart:\n",
      "\n",
      "* Every language is connected to or influenced by another language.\n",
      "    * Sometimes this is due to a new language evolving directly out of an older one.\n",
      "    * Other times the creator can describe their influences for their design choices.\n",
      "* Knowing how a langauge was created is helpful as you move forward in learning other languages.\n",
      "* There are a lot of languages, even in modern usage.\n",
      "    * This speaks to the specialization that has occured in our modern era.\n",
      "    \n",
      "<img src='http://hightechhistory.files.wordpress.com/2010/04/history-poster20.gif'/>"
     ]
    },
    {
     "cell_type": "markdown",
     "metadata": {
      "slideshow": {
       "slide_type": "subslide"
      }
     },
     "source": [
      "## The modern programming languges\n",
      "\n",
      "This image provides an interesting overview of how these languages are used in industry.\n",
      "\n",
      "Note that Python is an industry standard language.\n",
      "\n",
      "<img src = 'http://cdn2.carlcheo.com/wp-content/uploads/2014/12/which-programming-language-should-i-learn-first-infographic.png' />"
     ]
    },
    {
     "cell_type": "markdown",
     "metadata": {
      "slideshow": {
       "slide_type": "slide"
      }
     },
     "source": [
      "# Points of interest in the Python biography\n",
      "\n",
      "* Created by Guido van Rossum\n",
      "    * Who is now the <a href='http://en.wikipedia.org/wiki/Benevolent_dictator_for_life'>Benevolent Dictator for Life (BDFL)</a>\n",
      "* Is open source\n",
      "    * Community maintained\n",
      "    * Community created features\n",
      "        * Adapts quickly to industry needs\n",
      "    * Free to use\n",
      "    * Consensus based developments\n",
      "* Based on the C language\n",
      "    * Everything written in Python is translated to C before being executed.\n",
      "    * This does make execution technically slower than in C, but you'll be hard pressed to find this to be a problem unless you're doing scientific computing.\n",
      "* Was designed with a philosophy\n",
      "    * And this design philosophy is maintained by the community.\n",
      "\n",
      "``` python\n",
      "\n",
      ">>> import this\n",
      "The Zen of Python, by Tim Peters\n",
      "\n",
      "Beautiful is better than ugly.\n",
      "Explicit is better than implicit.\n",
      "Simple is better than complex.\n",
      "Complex is better than complicated.\n",
      "Flat is better than nested.\n",
      "Sparse is better than dense.\n",
      "Readability counts.\n",
      "Special cases aren't special enough to break the rules.\n",
      "Although practicality beats purity.\n",
      "Errors should never pass silently.\n",
      "Unless explicitly silenced.\n",
      "In the face of ambiguity, refuse the temptation to guess.\n",
      "There should be one-- and preferably only one --obvious way to do it.\n",
      "Although that way may not be obvious at first unless you're Dutch.\n",
      "Now is better than never.\n",
      "Although never is often better than *right* now.\n",
      "If the implementation is hard to explain, it's a bad idea.\n",
      "If the implementation is easy to explain, it may be a good idea.\n",
      "Namespaces are one honking great idea -- let's do more of those!\n",
      "\n",
      "```\n"
     ]
    },
    {
     "cell_type": "markdown",
     "metadata": {
      "slideshow": {
       "slide_type": "slide"
      }
     },
     "source": [
      "# Break time!"
     ]
    },
    {
     "cell_type": "markdown",
     "metadata": {
      "slideshow": {
       "slide_type": "slide"
      }
     },
     "source": [
      "# Data Types\n",
      "\n",
      "How does a computer understand the world?  Always keep in mind that everything is just 0s and 1s.  We, as humans, can look at things and recognize their content.  Computers cannot do this.  They depend on us telling them what things are."
     ]
    },
    {
     "cell_type": "markdown",
     "metadata": {
      "slideshow": {
       "slide_type": "slide"
      }
     },
     "source": [
      "# Objects\n",
      "\n",
      "Everything in Python is an 'object.'  This is actually a very technical statement that we will expand and clarify as we go throughout the workshop, and something that you will continue to explore as you learn more about programming.  I don't expect you to completely grasp what this concept means, so the purpose of this discussion is to just introduce the basic framework that we can explore more later."
     ]
    },
    {
     "cell_type": "markdown",
     "metadata": {},
     "source": [
      "## Object what now?\n",
      "\n",
      "<a href = 'http://www.oxforddictionaries.com/us/definition/american_english/object'>Oxford English Dictionary</a> has a definition:  \"A person or thing to which a specified action or feeling is directed\"\n",
      "\n",
      "This is the meaning that we want to focus on."
     ]
    },
    {
     "cell_type": "markdown",
     "metadata": {
      "slideshow": {
       "slide_type": "fragment"
      }
     },
     "source": [
      "Let's take a look at a book.  What can we do with a book?\n",
      "\n",
      "* Read it\n",
      "* Catalog it\n",
      "* Preserve it\n",
      "* Burn it\n",
      "* etc."
     ]
    },
    {
     "cell_type": "markdown",
     "metadata": {
      "slideshow": {
       "slide_type": "fragment"
      }
     },
     "source": [
      "What information does a book have?\n",
      "\n",
      "* A title\n",
      "* A number of pages\n",
      "* A subject headings\n",
      "* A summary of content\n",
      "* An author\n",
      "* etc."
     ]
    },
    {
     "cell_type": "markdown",
     "metadata": {
      "slideshow": {
       "slide_type": "fragment"
      }
     },
     "source": [
      "These are actions that can be taken on books.\n",
      "\n",
      "* Read them\n",
      "* Write in them\n",
      "* etc."
     ]
    },
    {
     "cell_type": "markdown",
     "metadata": {},
     "source": [
      "## Objects\n",
      "\n",
      "Everything in Python is an 'object.'  This is actually a very technical statement that we will expand and clarify as we go throughout the workshop, and something that you will continue to explore as you learn more about programming.  I don't expect you to completely grasp what this concept means, so the purpose of this discussion is to just introduce the basic framework that we can explore more later.\n",
      "\n",
      "So what do I mean by an object?\n",
      "\n",
      "\n",
      "\n",
      "However, would we eat a book?  Would we write with a book?  Not really.  Going back to our definition, we can see that an object can receive actions.  I can read a book.  I can look up the book's title.  However, there are actions that I can't do to it.  Every object, in this sense, can hold a set of actions and values.\n",
      "\n",
      "And that's the key phrase that I want you to keep in mind as we go through this workshop.  Every object within Python, and we'll talk about what those are in a moment, is capable of receiving certaint types of actions and holding certain types of information.  Of everyhting that I've said in the past few minutes, that's the take-away phrase that I want you to hold in your mind."
     ]
    },
    {
     "cell_type": "markdown",
     "metadata": {},
     "source": [
      "## Python's core data types\n",
      "\n",
      "Going back to our language analogy, these data types are basically the type of nouns that we can have in our sentences.  They are the things that we talk about, the things that we do actions to.  There are actually a ton of different data types within Python, but I'm going to cover just the core ones that you need to care about immediately.  You'll pick up the other types as you do more, and most of the others are built on top of what I will be talking about.\n",
      "\n",
      "There are three groups of data types that I'll be talking about:  numbers, words, and containers.  In fact, these are the core things that we will be talking about in this workshop.  Essentially, this encompasses everything that a computer program will do in the context of data:  hold the data in some way and then count stuff about words.  \n",
      "\n",
      "We're going to meet our first helpful Python tool:  `type()`.  Throw something inside the `()` and Python will tell you what type of object it is seeing."
     ]
    },
    {
     "cell_type": "markdown",
     "metadata": {},
     "source": [
      "### Numbers\n",
      "\n",
      "Somewhat surprisingly, there are many types of numbers that a computer will know about.  Languages like Java actually have five different kinds of numerical data types.  Python has an advantage in this that it really only deals with two, because it handles a lot of the nuances behind the scenes.  So, why do we need ever more than one?\n",
      "\n",
      "A lot of this has to do with legacy computing and how computers store memory.  Very simply put, storing some kinds of numbers takes up less space than others.  When memory was super expensive, allowing a number to take up extra memory space was expensive and took up valuable space.  Thus they optimized the kinds of numbers that were stored.  For example, to cover all possible numbers we would need to allocate at least 64 units of space.  But 99% of the numbers that were used only need something like 16 units to be stored.  Thus, there are up to 48 units being used for the majority of those numbers.  So, when we can express numbers in different groups, we can optimize how they are stored and allow the programmers to control how much space is needed to store them.\n",
      "\n",
      "Python, thankfully, takes care of a lot of that stuff in the background for us.  There are only two types that we need to remember:\n",
      "\n",
      "#### Integers:  Whole numbers\n",
      "\n",
      "The `int` type, short for integer, are all of your whole numbers.  Numbers without any decimal points.  \n",
      "\n",
      "``` python\n",
      "\n",
      ">>> 1 + 1\n",
      "2\n",
      "\n",
      ">>> type(1)\n",
      "<type 'int'>\n",
      "\n",
      "```\n",
      "\n",
      "#### Floating point numbers:  Numbers with decimal values\n",
      "\n",
      "The `float` type, short for floating point number, is any number with a decimal value.\n",
      "\n",
      "``` python\n",
      "\n",
      ">>> 1.5 + 2.5\n",
      "4.0\n",
      "\n",
      ">>> 1.5 + .3\n",
      "1.8\n",
      "\n",
      ">>> type(1.5)\n",
      "<type 'float'>\n",
      "\n",
      "```\n",
      "\n",
      "#### Interaction of `int` and `float`\n",
      "\n",
      "`int` and `float` numbers get along pretty well.  (You haven't met some of these operators yet, but you can understand the basics!)\n",
      "\n",
      "``` python\n",
      "\n",
      ">>> 1 + 0.4\n",
      "1.4\n",
      "\n",
      ">>> 4 - .1\n",
      "3.9\n",
      "\n",
      ">>> type(1)\n",
      "<type 'int'>\n",
      "\n",
      ">>> type(1.0)\n",
      "<type 'float'>\n",
      "\n",
      ">>> 1 == 1.0\n",
      "True\n",
      "\n",
      "```\n",
      "\n"
     ]
    },
    {
     "cell_type": "markdown",
     "metadata": {},
     "source": [
      "### Words\n",
      "\n",
      "Words are pretty simple here.  All the basic characters you see, the ones you can see and type on your keyboard, are represented as characters.  These characters can be strung together as strings! (pun intended)\n",
      "\n",
      "#### Strings\n",
      "\n",
      "The `str` type, short for string, contains character data.  There are three ways to indicate that something is a string.\n",
      "\n",
      "``` python\n",
      "\n",
      "\"like this, with double quotes\"\n",
      "\n",
      "'or like this, with single quotes'\n",
      "\n",
      "\"\"\" or use\n",
      "three double quotes\n",
      "together to make\n",
      "a multi-line string\"\"\"\n",
      "\n",
      "```\n",
      "\n",
      "Why do we need three different ways to write strings?\n",
      "\n",
      "``` python\n",
      "\n",
      "\"Feel free to use either single or double quotes\"\n",
      "\n",
      "\n",
      "```\n",
      "\n",
      "``` python\n",
      "\n",
      "'You just need to make them match.'\n",
      "\n",
      "\n",
      "```\n",
      "\n",
      "So what if you need to put a double quote in a string?\n",
      "\n",
      "``` python\n",
      "\n",
      "\"You can escape it out, like this: \\\" see the backslash?\"\n",
      "\n",
      "```\n",
      "\n",
      "But be careful!  Remember that the quotes tell Python that what you put in was a string.\n",
      "\n",
      "``` python\n",
      "\n",
      ">>> type(\"1\")\n",
      "<type 'str'>\n",
      "\n",
      ">>> type(1)\n",
      "<type 'int'>\n",
      "\n",
      ">>> 1 == \"1\"\n",
      "False\n",
      "\n",
      "```\n",
      "\n",
      "Feel free to use either ' or \", but try to be consistant.  The multi-line string is generally used either for certain types of documentation modes."
     ]
    },
    {
     "cell_type": "markdown",
     "metadata": {},
     "source": [
      "# Switching gears...\n",
      "\n",
      "Now that we know the basic data types for our content, let's talk a little bit about operators and how to perform operations on these data types.  Then we'll talk about containers in the next section."
     ]
    },
    {
     "cell_type": "markdown",
     "metadata": {},
     "source": [
      "# Operators\n",
      "\n"
     ]
    }
   ],
   "metadata": {}
  }
 ]
}