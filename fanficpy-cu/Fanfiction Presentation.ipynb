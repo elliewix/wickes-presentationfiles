{
 "metadata": {
  "name": ""
 },
 "nbformat": 3,
 "nbformat_minor": 0,
 "worksheets": [
  {
   "cells": [
    {
     "cell_type": "markdown",
     "metadata": {
      "slideshow": {
       "slide_type": "slide"
      }
     },
     "source": [
      "# Fanfiction Analysis\n",
      "\n",
      "* Question:\n",
      "    * Did I really have one?\n",
      "    * Kind of."
     ]
    },
    {
     "cell_type": "markdown",
     "metadata": {
      "slideshow": {
       "slide_type": "fragment"
      }
     },
     "source": [
      "* How does fanfiction differ:\n",
      "   * Between....\n",
      "       * ratings\n",
      "       * genres\n",
      "       * franchises\n",
      "   * Within....\n",
      "       * pairing tags"
     ]
    },
    {
     "cell_type": "markdown",
     "metadata": {
      "slideshow": {
       "slide_type": "fragment"
      }
     },
     "source": [
      "Do works differ in some way between archives?"
     ]
    },
    {
     "cell_type": "markdown",
     "metadata": {
      "slideshow": {
       "slide_type": "slide"
      }
     },
     "source": [
      "# Data\n",
      "\n",
      "## <a href=\"http://www.fanfiction.net\">Fanfiction.net</a>\n",
      "\n",
      "<img src = \"narutofanficscreenshot.png\"/>"
     ]
    },
    {
     "cell_type": "markdown",
     "metadata": {
      "slideshow": {
       "slide_type": "subslide"
      }
     },
     "source": [
      "### Fanfiction.net core metadata:\n",
      "\n",
      "* Descriptives:\n",
      "    * title\n",
      "    * author\n",
      "    * description\n",
      "* Categories:\n",
      "    * rating  (K, K+, Teen, Mature)\n",
      "    * language\n",
      "    * genre\n",
      "    * characters\n",
      "* Quantitative measures:\n",
      "    * chapter count\n",
      "    * word count\n",
      "    * review count\n",
      "    * favorite count\n",
      "    * follow count\n",
      "* Dates:\n",
      "    * published\n",
      "    * updated"
     ]
    },
    {
     "cell_type": "markdown",
     "metadata": {
      "slideshow": {
       "slide_type": "subslide"
      }
     },
     "source": [
      "## <a href =\"http://www.archiveofourown.org\">Archive of Our Own</a>\n",
      "\n",
      "<img src = \"ao3narutoscreenshot.png\"/>"
     ]
    },
    {
     "cell_type": "code",
     "collapsed": false,
     "input": [],
     "language": "python",
     "metadata": {},
     "outputs": []
    }
   ],
   "metadata": {}
  }
 ]
}